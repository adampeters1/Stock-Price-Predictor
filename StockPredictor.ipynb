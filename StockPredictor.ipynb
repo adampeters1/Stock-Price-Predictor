{
 "cells": [
  {
   "cell_type": "markdown",
   "metadata": {},
   "source": [
    "### Import libraries"
   ]
  },
  {
   "cell_type": "code",
   "execution_count": 57,
   "metadata": {},
   "outputs": [],
   "source": [
    "import os\n",
    "\n",
    "import pandas as pd\n",
    "import numpy as np\n",
    "import matplotlib.pyplot as plt\n",
    "from matplotlib.backends.backend_tkagg import FigureCanvasTkAgg\n",
    "\n",
    "import datetime as dt\n",
    "import yfinance as yf\n",
    "\n",
    "from sklearn.preprocessing import MinMaxScaler\n",
    "\n",
    "import tensorflow as tf\n",
    "from tensorflow.keras.models import Sequential\n",
    "from tensorflow.keras.layers import Dense, Dropout, LSTM\n",
    "\n",
    "# Suppress gast errors unresolved by developers when using tensorflow version >=2.0.\n",
    "tf.get_logger().setLevel('ERROR')\n",
    "tf.autograph.set_verbosity(3)\n",
    "\n",
    "from tkinter import *"
   ]
  },
  {
   "cell_type": "markdown",
   "metadata": {},
   "source": [
    "### First GUI Window"
   ]
  },
  {
   "cell_type": "code",
   "execution_count": 58,
   "metadata": {},
   "outputs": [
    {
     "data": {
      "text/plain": [
       "''"
      ]
     },
     "execution_count": 58,
     "metadata": {},
     "output_type": "execute_result"
    },
    {
     "data": {
      "text/plain": [
       "''"
      ]
     },
     "execution_count": 58,
     "metadata": {},
     "output_type": "execute_result"
    }
   ],
   "source": [
    "root = Tk()\n",
    "root.geometry(\"800x350\") \n",
    "root.resizable(0, 0)\n",
    "\n",
    "Label(root, text = \"-----------------WELCOME!  TO USE THE STOCK PRICE PREDICTOR PLEASE FOLLOW THE STEPS BELOW:-------------------\").grid(row = 0, sticky = W)\n",
    "Label(root, text = \" \").grid(row = 1, sticky = W)\n",
    "Label(root, text = \"1. Enter a company's ticker that is listed on the NASDAQ / NYSE. (Company must have been listed for 2 years):\").grid(row = 2, sticky = W)\n",
    "Label(root, text = \"2a. Enter a date, that the stock market will be open, then click the 'Enter Date' button to confirm. (Format: Year-Month-Day)\").grid(row = 4, sticky = W)\n",
    "Label(root, text = \" \").grid(row = 6, sticky = W)\n",
    "Label(root, text = \"2b. Alternatively, click the 'Next Market Day' button for the next trading day's prediction.\").grid(row = 7, sticky = W)\n",
    "Label(root, text = \" \").grid(row = 8, sticky = W)\n",
    "Label(root, text = \"3. Finally click 'Predict!' to start or 'Cancel' to quit.\").grid(row = 9, sticky = W)\n",
    "Label(root, text = \"--------------------------------------------------------------------------------------------------------------------------------\").grid(row = 11, sticky = W)\n",
    "Label(root, text = f\"THIS IS NOT FINANCIAL ADVICE.\").grid(row=12, sticky=W)\n",
    "Label(root, text = f\"ANY LOSSES INCURED FROM TRADING BASED ON DIRECTION REUSLTS ARE SOLELY YOUR RESPONSIBILITY.\").grid(row=13, sticky=W)\n",
    "\n",
    "frame = Frame(root, bg=\"#263D42\")\n",
    "frame.place(relwidth=1, relheight=1, relx=0, rely=0.9)\n",
    "\n",
    "frame2 = Frame(root, bg=\"#263D42\")\n",
    "frame2.place(relwidth=1, relheight=1, relx=0.95, rely=0)\n",
    "\n",
    "userInput = Entry(root)\n",
    "userInput.grid(row = 3, column = 0, sticky = W)\n",
    "\n",
    "dateInput = Entry(root)\n",
    "dateInput.grid(row = 5, column = 0, sticky = W)\n",
    "\n",
    "def quit():\n",
    "    root.destroy()\n",
    "    \n",
    "    global company\n",
    "    company = \"\"\n",
    "    sys.exit(0)\n",
    "    \n",
    "def getInput():\n",
    "    inp = userInput.get()\n",
    "    root.destroy()\n",
    "\n",
    "    global company\n",
    "    company = inp\n",
    "    \n",
    "def getDate():\n",
    "    date = dateInput.get()\n",
    "    date = dt.datetime.strptime(date, '%Y-%m-%d')\n",
    "    \n",
    "    global endDate\n",
    "    endDate = date\n",
    "    \n",
    "def tomorrow():\n",
    "    date = dt.date.today() + dt.timedelta(days=1)\n",
    "\n",
    "    global endDate\n",
    "    endDate = date\n",
    "\n",
    "\n",
    "Button(root, text = \"Enter Date\", command = getDate).grid(row = 5, column = 1, sticky = W)\n",
    "Button(root, text = \"Next Market Day.\", command = tomorrow).grid(row = 7, column = 1, sticky = W)\n",
    "Button(root, text = \"Predict!\", command = getInput).grid(row = 9, column = 1, sticky = W)\n",
    "Button(root, text = \"Cancel (EXIT)\", command = quit).grid(row = 10, column = 1, sticky = W)\n",
    "\n",
    "mainloop()"
   ]
  },
  {
   "cell_type": "markdown",
   "metadata": {},
   "source": [
    "### import data for training from yfinance"
   ]
  },
  {
   "cell_type": "code",
   "execution_count": 59,
   "metadata": {},
   "outputs": [
    {
     "name": "stdout",
     "output_type": "stream",
     "text": [
      "[*********************100%***********************]  1 of 1 completed\n"
     ]
    }
   ],
   "source": [
    "company = company.upper()\n",
    "start = '2016-01-01'\n",
    "end = '2020-01-01'\n",
    "\n",
    "data = yf.download(company, start, end);\n",
    "\n",
    "# Exit if no ticker data is found.\n",
    "if len(data) == 0:\n",
    "    print(\"ERROR - TICKER NOT FOUND\")\n",
    "    sys.exit(0)"
   ]
  },
  {
   "cell_type": "markdown",
   "metadata": {},
   "source": [
    "### Scale data"
   ]
  },
  {
   "cell_type": "code",
   "execution_count": 60,
   "metadata": {},
   "outputs": [],
   "source": [
    "# Scale data\n",
    "scaler = MinMaxScaler(feature_range = (0, 1))\n",
    "scaled_data = scaler.fit_transform(data['Close'].values.reshape(-1, 1))\n",
    "\n",
    "prediction_days = 30    # how many days to look back, for next day predicted\n",
    "\n",
    "# training data lists\n",
    "x_train = [] \n",
    "y_train = []\n",
    "\n",
    "# append the amount of prior days to x_train, next day to y_train.\n",
    "for x in range(prediction_days, len(scaled_data)):\n",
    "    x_train.append(scaled_data[x - prediction_days: x, 0])\n",
    "    y_train.append(scaled_data[x , 0])\n",
    "\n",
    "x_train, y_train = np.array(x_train), np.array(y_train)\n",
    "x_train = np.reshape(x_train, (x_train.shape[0], x_train.shape[1], 1))"
   ]
  },
  {
   "cell_type": "markdown",
   "metadata": {},
   "source": [
    "### Create the Dense LSTM Model and train it on the training data"
   ]
  },
  {
   "cell_type": "code",
   "execution_count": 61,
   "metadata": {
    "scrolled": false
   },
   "outputs": [
    {
     "name": "stdout",
     "output_type": "stream",
     "text": [
      "Epoch 1/10\n",
      "16/16 [==============================] - 0s 24ms/step - loss: 0.0750\n",
      "Epoch 2/10\n",
      "16/16 [==============================] - 0s 21ms/step - loss: 0.0205\n",
      "Epoch 3/10\n",
      "16/16 [==============================] - 0s 21ms/step - loss: 0.0135\n",
      "Epoch 4/10\n",
      "16/16 [==============================] - 0s 21ms/step - loss: 0.0111\n",
      "Epoch 5/10\n",
      "16/16 [==============================] - 0s 21ms/step - loss: 0.0107\n",
      "Epoch 6/10\n",
      "16/16 [==============================] - 0s 20ms/step - loss: 0.0094\n",
      "Epoch 7/10\n",
      "16/16 [==============================] - 0s 24ms/step - loss: 0.0095\n",
      "Epoch 8/10\n",
      "16/16 [==============================] - 0s 21ms/step - loss: 0.0095\n",
      "Epoch 9/10\n",
      "16/16 [==============================] - 0s 24ms/step - loss: 0.0090\n",
      "Epoch 10/10\n",
      "16/16 [==============================] - 0s 20ms/step - loss: 0.0084\n"
     ]
    },
    {
     "data": {
      "text/plain": [
       "<tensorflow.python.keras.callbacks.History at 0x2283d5b10a0>"
      ]
     },
     "execution_count": 61,
     "metadata": {},
     "output_type": "execute_result"
    }
   ],
   "source": [
    "model = Sequential()\n",
    "model.add(LSTM(50, return_sequences = True, input_shape = (x_train.shape[1], 1)))\n",
    "model.add(Dropout(0.2))\n",
    "\n",
    "model.add(LSTM(50, return_sequences = False))\n",
    "model.add(Dropout(0.2))\n",
    "\n",
    "model.add(Dense(25))\n",
    "model.add(Dropout(0.2))\n",
    "\n",
    "# Prediction of the next closing day's value\n",
    "model.add(Dense(units = 1))\n",
    "\n",
    "model.compile(optimizer = 'adam', loss = 'mean_squared_error')\n",
    "\n",
    "# Fit the model, choose how many repetitions (Epochs).\n",
    "model.fit(x_train, y_train, epochs = 10, batch_size = 64)"
   ]
  },
  {
   "cell_type": "markdown",
   "metadata": {},
   "source": [
    "### Test the model accuracy on Existing Data"
   ]
  },
  {
   "cell_type": "code",
   "execution_count": 62,
   "metadata": {},
   "outputs": [
    {
     "name": "stdout",
     "output_type": "stream",
     "text": [
      "[*********************100%***********************]  1 of 1 completed\n"
     ]
    }
   ],
   "source": [
    "test_start = dt.datetime(2020, 1, 1)\n",
    "test_end = endDate                                # Changed by the user input.\n",
    "\n",
    "test_data = yf.download(company, test_start, test_end);\n",
    "actual_prices = test_data['Close'].values\n",
    "\n",
    "total_dataset = pd.concat((data['Close'], test_data['Close']), axis = 0)\n",
    "\n",
    "model_inputs = total_dataset[len(total_dataset) - len(test_data) - prediction_days:].values\n",
    "model_inputs = model_inputs.reshape(-1, 1)\n",
    "model_inputs = scaler.transform(model_inputs)"
   ]
  },
  {
   "cell_type": "markdown",
   "metadata": {},
   "source": [
    "### Make predictions on Test data"
   ]
  },
  {
   "cell_type": "code",
   "execution_count": 63,
   "metadata": {},
   "outputs": [],
   "source": [
    "x_test = []\n",
    "\n",
    "for x in range(prediction_days, len(model_inputs)):\n",
    "    x_test.append(model_inputs[x-prediction_days:x, 0])\n",
    "    \n",
    "x_test = np.array(x_test)\n",
    "x_test = np.reshape(x_test, (x_test.shape[0], x_test.shape[1], 1))\n",
    "\n",
    "predicted_prices = model.predict(x_test)\n",
    "predicted_prices = scaler.inverse_transform(predicted_prices)"
   ]
  },
  {
   "cell_type": "markdown",
   "metadata": {},
   "source": [
    "## Predict the next day"
   ]
  },
  {
   "cell_type": "code",
   "execution_count": 64,
   "metadata": {},
   "outputs": [],
   "source": [
    "real_data = [model_inputs[len(model_inputs) - prediction_days: len(model_inputs + 1), 0]]\n",
    "real_data = np.array(real_data)\n",
    "real_data = np.reshape(real_data, (real_data.shape[0], real_data.shape[1], 1))\n",
    "\n",
    "prediction = model.predict(real_data)\n",
    "prediction = scaler.inverse_transform(prediction)"
   ]
  },
  {
   "cell_type": "markdown",
   "metadata": {},
   "source": [
    "## Results"
   ]
  },
  {
   "cell_type": "code",
   "execution_count": 65,
   "metadata": {
    "scrolled": false
   },
   "outputs": [
    {
     "data": {
      "text/plain": [
       "list"
      ]
     },
     "execution_count": 65,
     "metadata": {},
     "output_type": "execute_result"
    },
    {
     "name": "stdout",
     "output_type": "stream",
     "text": [
      "\n",
      "\n",
      "\n",
      "\n",
      "\n",
      "\n",
      "\n",
      "\n",
      "\n",
      "\n",
      "\n",
      "\n",
      "\n",
      "---------------------------------------------------------------------------------------\n",
      "NVDA's prior day price was: 560.6300 on the '2021-05-19'.\n",
      "NVDA's next day price is predicted to be: 506.8351 on the '2021-05-20'/ Next Market Day If Closed.\n"
     ]
    }
   ],
   "source": [
    "results = pd.DataFrame()\n",
    "results['Actual Close Price'] = actual_prices\n",
    "results['Predicted Close Price'] = predicted_prices\n",
    "\n",
    "prior_day = results[\"Actual Close Price\"].tail(1)\n",
    "prior_day = prior_day.values\n",
    "\n",
    "prior = [\"%.4f\" % i for i in prior_day]\n",
    "next_day = [\"%.4f\" % i for i in prediction] \n",
    "\n",
    "type(prior)\n",
    "test_end -= dt.timedelta(days=1)    # subtract by one day as the test_end in yfinance\n",
    "                                     # imports up to but not including that date so for yesterdays date subtract\n",
    "\n",
    "test_end = test_end.strftime('%Y-%m-%d')\n",
    "endDate = endDate.strftime('%Y-%m-%d')\n",
    "\n",
    "print(\"\\n\\n\\n\\n\\n\\n\\n\\n\\n\\n\\n\\n\")\n",
    "print(\"---------------------------------------------------------------------------------------\")\n",
    "print(f\"{company}'s prior day price was: {prior[0]} on the '{test_end}'.\")    \n",
    "print(f\"{company}'s next day price is predicted to be: {next_day[0]} on the '{endDate}'/ Next Market Day If Closed.\")"
   ]
  },
  {
   "cell_type": "markdown",
   "metadata": {},
   "source": [
    "### Output choice, based on price change above/below small margin"
   ]
  },
  {
   "cell_type": "code",
   "execution_count": 66,
   "metadata": {},
   "outputs": [
    {
     "name": "stdout",
     "output_type": "stream",
     "text": [
      "\n",
      "\n",
      "LSTM PREDICTION SAYS:\n",
      "--> NVDA will go down, action is sell.\n",
      "---------------------------------------------------------------------------------------\n"
     ]
    }
   ],
   "source": [
    "print(\"\\n\")\n",
    "print(\"LSTM PREDICTION SAYS:\")\n",
    "\n",
    "choice = \"hold\"\n",
    "output = \"\"\n",
    "\n",
    "if (prior_day * 1.01) < prediction:\n",
    "    print(f\"--> {company} will go up, action is buy.\")\n",
    "    choice = \"buy\"\n",
    "    output = f\"{company} will go up, action is buy.\"\n",
    "    \n",
    "elif (prior_day * 0.99) > prediction:\n",
    "    print(f\"--> {company} will go down, action is sell.\")\n",
    "    choice = \"sell\"\n",
    "    output = f\"{company} will go down, action is sell.\"\n",
    "    \n",
    "else:\n",
    "    print(f\"--> {company} will not move significantly, action is hold/wait.\")\n",
    "    choice = \"hold\"\n",
    "    output = f\"{company} will not move significantly, action is hold/wait.\"\n",
    "\n",
    "print(\"---------------------------------------------------------------------------------------\")"
   ]
  },
  {
   "cell_type": "markdown",
   "metadata": {},
   "source": [
    "### Convert prediction to string, write said prediction + info to a .csv"
   ]
  },
  {
   "cell_type": "code",
   "execution_count": 67,
   "metadata": {},
   "outputs": [],
   "source": [
    "def npToString(numpyArray):\n",
    "    df = pd.DataFrame(numpyArray)\n",
    "    df = df.rename(columns={0: \"Prediction\"})\n",
    "    df = df['Prediction'].values\n",
    "    pred =[\"%.4f\" % i for i in df]    # converts a numpy array into string(s)\n",
    "    \n",
    "    return pred\n",
    "\n",
    "pred = npToString(prediction)"
   ]
  },
  {
   "cell_type": "code",
   "execution_count": 68,
   "metadata": {},
   "outputs": [],
   "source": [
    "def addToFile(file, what):\n",
    "    f = open(file, 'a').write(what) "
   ]
  },
  {
   "cell_type": "code",
   "execution_count": 69,
   "metadata": {},
   "outputs": [],
   "source": [
    "addToFile(\"./PREDICTION LOG.csv\", f\"{company} -> {prediction_days} Days Predicted: \" + pred[0] + \n",
    "         f\" ({choice})\" +f\" for {endDate}.\" + \"\\n\")"
   ]
  },
  {
   "cell_type": "markdown",
   "metadata": {},
   "source": [
    "### Second GUI Window, plot results of LSTM, write .png to folder"
   ]
  },
  {
   "cell_type": "code",
   "execution_count": 70,
   "metadata": {},
   "outputs": [
    {
     "data": {
      "text/plain": [
       "''"
      ]
     },
     "execution_count": 70,
     "metadata": {},
     "output_type": "execute_result"
    },
    {
     "data": {
      "text/plain": [
       "''"
      ]
     },
     "execution_count": 70,
     "metadata": {},
     "output_type": "execute_result"
    },
    {
     "name": "stdout",
     "output_type": "stream",
     "text": [
      "Creation of the directory ./figures failed, check if it has already been created.\n"
     ]
    }
   ],
   "source": [
    "root = Tk() \n",
    "root.geometry(\"850x850\") \n",
    "root.resizable(0, 0)\n",
    "\n",
    "frame = Frame(root, bg=\"#263D42\")\n",
    "frame.place(relwidth=1, relheight=1, relx=0, rely=0.90)\n",
    "\n",
    "frame2 = Frame(root, bg=\"#263D42\")\n",
    "frame2.place(relwidth=1, relheight=1, relx=0.95, rely=0)\n",
    "\n",
    "Label(root, text = f\"LSTM MODEL PREDICTION FOR '{endDate}'/ Next Market Day If Closed:   -------->   ${pred[0]}\").grid(row = 0, sticky = W)\n",
    "Label(root, text = f\"{output.upper()}\").grid(row = 1, sticky = W)\n",
    "Label(root, text = f\"-----------------------------------------------------------------\").grid(row=2, sticky=W)\n",
    "Label(root, text = f\"CLICK BELOW TO GENERATE A GRAPH OF THE LSTM MODEL'S PREDICTIONS ON THE DATASET.\").grid(row = 3, column = 0, sticky = W)\n",
    "Label(root, text = f\"\").grid(row=6, sticky=W)\n",
    "Label(root, text = f\"\").grid(row=7, sticky=W)\n",
    "Label(root, text = f\"THIS IS NOT FINANCIAL ADVICE.\").grid(row=9, sticky=W)\n",
    "Label(root, text = f\"ANY LOSSES INCURED FROM TRADING BASED ON DIRECTION REUSLTS ARE SOLELY YOUR RESPONSIBILITY.\").grid(row=10, sticky=W)\n",
    "Label(root, text = f\" \").grid(row=11, sticky=W)\n",
    "\n",
    "def exit():\n",
    "    root.destroy()\n",
    "    \n",
    "    \n",
    "def plot():\n",
    "    fig = plt.Figure(figsize = (10,6))\n",
    "    a = fig.add_subplot(111)\n",
    "    \n",
    "    fig.set_size_inches(5, 5, forward=True)\n",
    "    \n",
    "    \n",
    "    a.plot(actual_prices, color = 'black', label = f'Actual {company} Price')\n",
    "    a.plot(predicted_prices, color = 'green', label = f'Predicted {company} Price')\n",
    "    a.set_title(f'{company} Stock Price VS Predicted Price (LSTM)')\n",
    "    a.set_xlabel('Time (Days)')\n",
    "    a.set_ylabel(f'{company} Stock Price ($)')\n",
    "    a.legend()\n",
    "    a.grid()\n",
    "    \n",
    "    canv = FigureCanvasTkAgg(fig, master = root)\n",
    "    canv.draw()\n",
    "    \n",
    "    get_widz = canv.get_tk_widget()\n",
    "    get_widz.grid(row=5, column =0, sticky=W)\n",
    "    \n",
    "\n",
    "    # define the name of the directory to be created\n",
    "    path = \"./figures\"\n",
    "\n",
    "    try:\n",
    "        os.mkdir(path)\n",
    "    except OSError:\n",
    "        print (f\"Creation of the directory {path} failed, check if it has already been created.\")\n",
    "    \n",
    "    \n",
    "    fig.savefig(f'./figures/{company} results.png', bbox_inches='tight')\n",
    "    \n",
    "    Label(root, text = f\"PLOT HAS BEEN STORED AS {company} results.png in {path}.\").grid(row=6, sticky=W)\n",
    "    \n",
    "\n",
    "\n",
    "Button(root, text = \"PLOT\", command = plot).grid(row = 4, column = 0, sticky = W)\n",
    "Button(root, text = \"EXIT\", command = exit).grid(row = 12, column = 0, sticky = W)\n",
    "\n",
    "mainloop()"
   ]
  }
 ],
 "metadata": {
  "kernelspec": {
   "display_name": "Python 3",
   "language": "python",
   "name": "python3"
  },
  "language_info": {
   "codemirror_mode": {
    "name": "ipython",
    "version": 3
   },
   "file_extension": ".py",
   "mimetype": "text/x-python",
   "name": "python",
   "nbconvert_exporter": "python",
   "pygments_lexer": "ipython3",
   "version": "3.8.8"
  }
 },
 "nbformat": 4,
 "nbformat_minor": 4
}
